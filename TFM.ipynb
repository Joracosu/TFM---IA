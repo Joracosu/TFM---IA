{
 "cells": [
  {
   "cell_type": "markdown",
   "metadata": {},
   "source": [
    "Inicialización de paquetes para Python"
   ]
  },
  {
   "cell_type": "code",
   "execution_count": null,
   "metadata": {},
   "outputs": [],
   "source": [
    "from fbprophet import Prophet\n",
    "import pandas as pd \n",
    "import matplotlib.pyplot as plt\n",
    "import calendar"
   ]
  },
  {
   "cell_type": "markdown",
   "metadata": {},
   "source": [
    "Modelo básico"
   ]
  },
  {
   "cell_type": "code",
   "execution_count": null,
   "metadata": {},
   "outputs": [],
   "source": [
    "fecha = pd.Timestamp('2018-2-15')\n",
    "\n",
    "datos = pd.read_table('Datos.csv',sep=';',decimal = ',', index_col=0)\n",
    "datos.index = pd.to_datetime(datos.index, format='%d/%m/%Y')\n",
    "data = datos[datos.index <= fecha].copy()\n",
    "data['ds'] = data.index\n",
    "data = pd.DataFrame(data[['ds', 'TOTALES']])\n",
    "data.columns = ['ds','y']\n",
    "\n",
    "m = Prophet()\n",
    "m.fit(data)\n",
    "\n",
    "future = m.make_future_dataframe(periods=365)\n",
    "\n",
    "forecast = m.predict(future)\n",
    "forecast.loc[forecast['yhat']<0, 'yhat'] = 0\n",
    "forecast.loc[forecast['yhat_lower']<0, 'yhat_lower'] = 0\n",
    "forecast.loc[forecast['yhat_upper']<0, 'yhat_upper'] = 0\n",
    "\n",
    "fig1 = m.plot(forecast)\n",
    "fig2 = m.plot_components(forecast)"
   ]
  },
  {
   "cell_type": "markdown",
   "metadata": {},
   "source": [
    "Modelo básico + dias festivos"
   ]
  },
  {
   "cell_type": "code",
   "execution_count": null,
   "metadata": {},
   "outputs": [],
   "source": [
    "fecha = pd.Timestamp('2018-2-15')\n",
    "\n",
    "datos = pd.read_table('Datos.csv',sep=';',decimal = ',', index_col=0)\n",
    "datos.index = pd.to_datetime(datos.index, format='%d/%m/%Y')\n",
    "data = datos[datos.index <= fecha].copy()\n",
    "data['ds'] = data.index\n",
    "data = pd.DataFrame(data[['ds', 'TOTALES']])\n",
    "data.columns = ['ds','y']\n",
    "\n",
    "festivos = pd.read_table('festivos.csv',sep=';',decimal = ',', encoding='latin-1')\n",
    "festivos['ds'] = pd.to_datetime(festivos['ds'], format='%d/%m/%Y')\n",
    "\n",
    "m = Prophet(holidays=festivos)\n",
    "m.fit(data)\n",
    "\n",
    "future = m.make_future_dataframe(periods=365)\n",
    "\n",
    "forecast = m.predict(future)\n",
    "forecast.loc[forecast['yhat']<0, 'yhat'] = 0\n",
    "forecast.loc[forecast['yhat_lower']<0, 'yhat_lower'] = 0\n",
    "forecast.loc[forecast['yhat_upper']<0, 'yhat_upper'] = 0\n",
    "\n",
    "fig1 = m.plot(forecast)\n",
    "fig2 = m.plot_components(forecast)"
   ]
  },
  {
   "cell_type": "markdown",
   "metadata": {},
   "source": [
    "Modelo básico + días festivos + PIB"
   ]
  },
  {
   "cell_type": "code",
   "execution_count": null,
   "metadata": {
    "scrolled": false
   },
   "outputs": [],
   "source": [
    "fecha = pd.Timestamp('2018-2-15')\n",
    "\n",
    "datos = pd.read_table('Datos.csv',sep=';',decimal = ',', index_col=0)\n",
    "datos.index = pd.to_datetime(datos.index, format='%d/%m/%Y')\n",
    "data = datos[datos.index <= fecha].copy()\n",
    "data['ds'] = data.index\n",
    "data = pd.DataFrame(data[['ds', 'TOTALES']])\n",
    "data.columns = ['ds','y']\n",
    "\n",
    "festivos = pd.read_table('festivos.csv',sep=';',decimal = ',', encoding='latin-1')\n",
    "festivos['ds'] = pd.to_datetime(festivos['ds'], format='%d/%m/%Y')\n",
    "\n",
    "PIB = pd.read_table('PIB.csv',sep=';',decimal = ',',index_col=0)\n",
    "PIB.index = pd.to_datetime(PIB.index, format='%d/%m/%Y')\n",
    "PIB_antes = PIB[PIB.index<=fecha].copy()\n",
    "PIB_pred = pd.read_table('PIB prediccion.csv',sep=';',decimal = ',',index_col=0)\n",
    "PIB_pred.index = pd.to_datetime(PIB_pred.index, format='%d/%m/%Y')\n",
    "PIB_despues = PIB_pred[PIB_pred.index>fecha].copy()\n",
    "economia_PIB = pd.concat([PIB_antes, PIB_despues])\n",
    "\n",
    "data_with_regressors=data.join(economia_PIB)\n",
    "\n",
    "m = Prophet(holidays=festivos)\n",
    "m.add_regressor('anual', prior_scale=0.5, mode='multiplicative')\n",
    "m.add_regressor('trimestral', prior_scale=0.5, mode='multiplicative')\n",
    "m.fit(data_with_regressors)\n",
    "\n",
    "future = economia_PIB.copy()\n",
    "future.index.name = 'ds'\n",
    "future = future.reset_index()\n",
    "\n",
    "forecast = m.predict(future)\n",
    "forecast.loc[forecast['yhat']<0, 'yhat'] = 0\n",
    "forecast.loc[forecast['yhat_lower']<0, 'yhat_lower'] = 0\n",
    "forecast.loc[forecast['yhat_upper']<0, 'yhat_upper'] = 0\n",
    "\n",
    "fig1 = m.plot(forecast)\n",
    "fig2 = m.plot_components(forecast)\n"
   ]
  },
  {
   "cell_type": "markdown",
   "metadata": {},
   "source": [
    "Modelo básico + días festivos + PIB + un parámetro especial"
   ]
  },
  {
   "cell_type": "code",
   "execution_count": null,
   "metadata": {},
   "outputs": [],
   "source": [
    "fecha = pd.Timestamp('2018-2-15')\n",
    "\n",
    "datos = pd.read_table('Datos.csv',sep=';',decimal = ',', index_col=0)\n",
    "datos.index = pd.to_datetime(datos.index, format='%d/%m/%Y')\n",
    "data = datos[datos.index <= fecha].copy()\n",
    "data['ds'] = data.index\n",
    "data = pd.DataFrame(data[['ds', 'ASPIRADO']])\n",
    "data.columns = ['ds','y']\n",
    "\n",
    "festivos = pd.read_table('festivos.csv',sep=';',decimal = ',', encoding='latin-1')\n",
    "festivos['ds'] = pd.to_datetime(festivos['ds'], format='%d/%m/%Y')\n",
    "\n",
    "PIB = pd.read_table('PIB.csv',sep=';',decimal = ',',index_col=0)\n",
    "PIB.index = pd.to_datetime(PIB.index, format='%d/%m/%Y')\n",
    "PIB_antes = PIB[PIB.index<=fecha].copy()\n",
    "PIB_pred = pd.read_table('PIB prediccion.csv',sep=';',decimal = ',',index_col=0)\n",
    "PIB_pred.index = pd.to_datetime(PIB_pred.index, format='%d/%m/%Y')\n",
    "PIB_despues = PIB_pred[PIB_pred.index>fecha].copy()\n",
    "economia_PIB = pd.concat([PIB_antes, PIB_despues])\n",
    "\n",
    "empleado = pd.DataFrame(datos[['EMPLEO']])\n",
    "\n",
    "regressors=economia_PIB.join(empleado)\n",
    "data_with_regressors=data.join(regressors)\n",
    "\n",
    "m = Prophet(holidays=festivos)\n",
    "m.add_regressor('anual', prior_scale=0.5, mode='multiplicative')\n",
    "m.add_regressor('trimestral', prior_scale=0.5, mode='multiplicative')\n",
    "m.add_regressor('EMPLEO', prior_scale=0.5, mode='multiplicative')\n",
    "m.fit(data_with_regressors)\n",
    "\n",
    "future = regressors.copy()\n",
    "future.index.name = 'ds'\n",
    "future = future.reset_index()\n",
    "future['EMPLEO'] = future['EMPLEO'].fillna(2)\n",
    "\n",
    "forecast = m.predict(future)\n",
    "forecast.loc[forecast['yhat']<0, 'yhat'] = 0\n",
    "forecast.loc[forecast['yhat_lower']<0, 'yhat_lower'] = 0\n",
    "forecast.loc[forecast['yhat_upper']<0, 'yhat_upper'] = 0\n",
    "\n",
    "fig1 = m.plot(forecast)\n",
    "fig2 = m.plot_components(forecast)\n"
   ]
  },
  {
   "cell_type": "markdown",
   "metadata": {},
   "source": [
    "Modelo básico + días festivos + PIB + Clima"
   ]
  },
  {
   "cell_type": "code",
   "execution_count": null,
   "metadata": {},
   "outputs": [],
   "source": [
    "fecha = pd.Timestamp('2018-2-15')\n",
    "\n",
    "datos = pd.read_table('Datos.csv',sep=';',decimal = ',', index_col=0)\n",
    "datos.index = pd.to_datetime(datos.index, format='%d/%m/%Y')\n",
    "data = datos[datos.index <= fecha].copy()\n",
    "data['ds'] = data.index\n",
    "data = pd.DataFrame(data[['ds', 'TOTALES']])\n",
    "data.columns = ['ds','y']\n",
    "\n",
    "festivos = pd.read_table('festivos.csv',sep=';',decimal = ',', encoding='latin-1')\n",
    "festivos['ds'] = pd.to_datetime(festivos['ds'], format='%d/%m/%Y')\n",
    "\n",
    "PIB = pd.read_table('PIB.csv',sep=';',decimal = ',',index_col=0)\n",
    "PIB.index = pd.to_datetime(PIB.index, format='%d/%m/%Y')\n",
    "PIB_antes = PIB[PIB.index<=fecha].copy()\n",
    "PIB_pred = pd.read_table('PIB prediccion.csv',sep=';',decimal = ',',index_col=0)\n",
    "PIB_pred.index = pd.to_datetime(PIB_pred.index, format='%d/%m/%Y')\n",
    "PIB_despues = PIB_pred[PIB_pred.index>fecha].copy()\n",
    "economia_PIB = pd.concat([PIB_antes, PIB_despues])\n",
    "\n",
    "empleado = pd.DataFrame(datos[['EMPLEO']])\n",
    "\n",
    "clima = pd.read_table('Clima.csv', sep=';', decimal = ',', index_col=0)\n",
    "clima.index = pd.to_datetime(clima.index, format='%d/%m/%Y')\n",
    "clima = pd.DataFrame(clima[['sol','tmin','tmax','prec']])\n",
    "clima = clima.interpolate(method = 'linear')\n",
    "clima_antes = clima[clima.index<=fecha].copy()\n",
    "clima_pred = pd.read_table('Clima prediccion.csv', sep=';', decimal = ',', index_col=0)\n",
    "clima_pred.index = pd.to_datetime(clima_pred.index, format='%d/%m/%Y')\n",
    "clima_despues = clima_pred[clima_pred.index>fecha].copy()\n",
    "climatologia = pd.concat([clima_antes, clima_despues])\n",
    "\n",
    "regressors = economia_PIB.join(empleado)\n",
    "regressors = regressors.join(climatologia)\n",
    "data_with_regressors = data.join(regressors)\n",
    "\n",
    "m = Prophet(holidays=festivos)\n",
    "m.add_regressor('anual', prior_scale=0.5, mode='multiplicative')\n",
    "m.add_regressor('trimestral', prior_scale=0.5, mode='multiplicative')\n",
    "m.add_regressor('EMPLEO', prior_scale=0.5, mode='multiplicative')\n",
    "m.add_regressor('sol', prior_scale=0.5, mode='multiplicative')\n",
    "m.add_regressor('tmin', prior_scale=0.5, mode='multiplicative')\n",
    "m.add_regressor('tmax', prior_scale=0.5, mode='multiplicative')\n",
    "m.add_regressor('prec', prior_scale=0.5, mode='multiplicative')\n",
    "m.fit(data_with_regressors)\n",
    "\n",
    "future = regressors.copy()\n",
    "future.index.name = 'ds'\n",
    "future = future.reset_index()\n",
    "future['EMPLEO'] = future['EMPLEO'].fillna(2)\n",
    "\n",
    "forecast = m.predict(future)\n",
    "\n",
    "forecast.loc[forecast['yhat']<0, 'yhat'] = 0\n",
    "forecast.loc[forecast['yhat_lower']<0, 'yhat_lower'] = 0\n",
    "forecast.loc[forecast['yhat_upper']<0, 'yhat_upper'] = 0\n",
    "\n",
    "fig1 = m.plot(forecast)\n",
    "fig2 = m.plot_components(forecast)"
   ]
  },
  {
   "cell_type": "markdown",
   "metadata": {},
   "source": [
    "Función modelo_TFM (básico)"
   ]
  },
  {
   "cell_type": "code",
   "execution_count": null,
   "metadata": {},
   "outputs": [],
   "source": [
    "\n",
    "def modelo_prophet(data,fecha, season, periodo, furier, modo):\n",
    "    festivos = pd.read_table('festivos.csv',sep=';',decimal=',',encoding='latin-1')\n",
    "    festivos['ds'] = pd.to_datetime(festivos['ds'], format = '%d/%m/%Y')\n",
    "    \n",
    "    PIB = pd.read_table('PIB.csv',sep = ';',decimal = ',',index_col=0)\n",
    "    PIB.index = pd.to_datetime(PIB.index, format = '%d/%m/%Y')\n",
    "    PIB_antes = PIB[PIB.index <= fecha].copy()\n",
    "    PIB_pred = pd.read_table('PIB prediccion.csv',sep=';',decimal = ',',index_col=0)\n",
    "    PIB_pred.index = pd.to_datetime(PIB_pred.index, format = '%d/%m/%Y')\n",
    "    PIB_despues = PIB_pred[PIB_pred.index>fecha].copy()\n",
    "    economia_PIB = pd.concat([PIB_antes, PIB_despues])\n",
    "    \n",
    "    empleado = pd.DataFrame(datos[['EMPLEO']])\n",
    "    \n",
    "    clima = pd.read_table('Clima.csv', sep = ';', decimal = ',', index_col=0)\n",
    "    clima.index = pd.to_datetime(clima.index, format='%d/%m/%Y')\n",
    "    clima = pd.DataFrame(clima[['sol','tmin','tmax','prec']])\n",
    "    clima = clima.interpolate(method = 'linear')\n",
    "    clima_antes = clima[clima.index <= fecha].copy()\n",
    "    clima_pred = pd.read_table('Clima prediccion.csv',sep=';',decimal=',',index_col=0)\n",
    "    clima_pred.index = pd.to_datetime(clima_pred.index, format = '%d/%m/%Y')\n",
    "    clima_despues = clima_pred[clima_pred.index > fecha].copy()\n",
    "    climatologia = pd.concat([clima_antes, clima_despues])\n",
    "    \n",
    "    regressors = economia_PIB.join(empleado)\n",
    "    regressors = regressors.join(climatologia)\n",
    "    data_with_regressors = data.join(regressors)\n",
    "    \n",
    "    m = Prophet(holidays = festivos, seasonality_mode = 'multiplicative', yearly_seasonality=20) #mcmc_samples=300)\n",
    "    m.add_regressor('anual', prior_scale = 0.5, mode = 'multiplicative')\n",
    "    m.add_regressor('trimestral', prior_scale = 0.5, mode = 'multiplicative')\n",
    "    m.add_regressor('EMPLEO', prior_scale = 0.5, mode = 'multiplicative')\n",
    "    m.add_regressor('sol', prior_scale = 0.5, mode = 'additive')\n",
    "    m.add_regressor('tmin', prior_scale = 0.5, mode = 'additive')\n",
    "    m.add_regressor('tmax', prior_scale = 0.5, mode = 'additive')\n",
    "    m.add_regressor('prec', prior_scale = 0.5, mode = 'additive')\n",
    "    if season: \n",
    "        for c in range(0,len(periodo)):\n",
    "            m.add_seasonality('periodo'+str(c), period=periodo[c], fourier_order=furier[c], mode=modo[c])\n",
    "    m.fit(data_with_regressors)\n",
    "    \n",
    "    future = regressors.copy()\n",
    "    future.index.name = 'ds'\n",
    "    future = future.reset_index()\n",
    "    future['EMPLEO'] = future['EMPLEO'].fillna(2)\n",
    "    forecast = m.predict(future)\n",
    "    forecast.loc[forecast['yhat'] < 0, 'yhat'] = 0\n",
    "    forecast.loc[forecast['yhat_lower'] < 0, 'yhat_lower'] = 0\n",
    "    forecast.loc[forecast['yhat_upper'] < 0, 'yhat_upper'] = 0\n",
    "    \n",
    "    return m, forecast\n",
    "\n",
    "def modelo_TFM(data,fecha, season, periodo, furier,modo):\n",
    "    m, forecast = modelo_prophet(data,fecha, season, periodo, furier, modo)\n",
    "    serie_anterior = data[data['ds'] <= fecha][['ds', 'y']]\n",
    "    nueva_serie = forecast[forecast['ds'] > fecha][['ds', 'yhat']]\n",
    "    nueva_serie.rename(columns = {'yhat':'y'}, inplace = True)\n",
    "    serie = pd.concat((serie_anterior, nueva_serie))\n",
    "    serie['FECHA'] = pd.to_datetime(serie['ds'], format = '%d/%m/%Y')\n",
    "    serie.index = serie['FECHA']\n",
    "    serie = pd.DataFrame(serie[['ds', 'y']])\n",
    "    return m, forecast, round(serie[serie['ds'].dt.year == fecha.year]['y'].sum(),2)"
   ]
  },
  {
   "cell_type": "markdown",
   "metadata": {},
   "source": [
    "Modelo inicial de referencia"
   ]
  },
  {
   "cell_type": "code",
   "execution_count": null,
   "metadata": {},
   "outputs": [],
   "source": [
    "def modelo_inicial(data,fecha_estudio):\n",
    "    año_estudio=fecha_estudio.year\n",
    "    mes_estudio=fecha_estudio.month\n",
    "    dia_estudio=fecha_estudio.day\n",
    "    \n",
    "#     display(data)\n",
    "    datos_mes = data.groupby(pd.Grouper(freq='M')).sum()\n",
    "#     display(datos_mes)\n",
    "    datos_base = datos_mes.reset_index()\n",
    "    datos_base = datos_base[(datos_base['FECHA'].dt.year < año_estudio)]\n",
    "    datos_base['año'] = datos_base['FECHA'].dt.year\n",
    "    datos_base['mes'] = datos_base['FECHA'].dt.month\n",
    "#     display(datos_base)\n",
    "    \n",
    "    modelo_base = datos_base.groupby('mes').mean()['y']\n",
    "    modelo_base = pd.DataFrame({'mes':modelo_base.index, 'y':modelo_base.values})\n",
    "    modelo_base['peso'] = modelo_base.y.cumsum() / modelo_base.y.sum()\n",
    "#     display(modelo_base)\n",
    "    \n",
    "    año_actual = data[(data['ds'].dt.year == año_estudio)]['y']\n",
    "    año_actual = pd.DataFrame({'FECHA':año_actual.index, 'y':año_actual.values})\n",
    "    mes_actual = año_actual[(año_actual['FECHA'].dt.month == mes_estudio)]\n",
    "    acumulado_anterior = año_actual[(año_actual['FECHA'].dt.month < mes_estudio)]['y'].sum()\n",
    "    acumulado_mes = mes_actual[(mes_actual['FECHA'].dt.day <= dia_estudio)]['y'].sum()\n",
    "    prorrateo_mes = acumulado_mes * calendar.monthrange(año_estudio,mes_estudio)[1] / dia_estudio\n",
    "    estimacion_año = (acumulado_anterior + prorrateo_mes) / modelo_base[modelo_base['mes'] == mes_estudio]\n",
    "    return round(estimacion_año['peso'][mes_estudio-1], 2)"
   ]
  },
  {
   "cell_type": "markdown",
   "metadata": {},
   "source": [
    "Script para generar DataSet de resultados comparativos"
   ]
  },
  {
   "cell_type": "code",
   "execution_count": null,
   "metadata": {
    "scrolled": true
   },
   "outputs": [],
   "source": [
    "datos = pd.read_table('Datos.csv',sep=';',decimal = ',', index_col = 0)\n",
    "datos.index = pd.to_datetime(datos.index, format = '%d/%m/%Y')\n",
    "\n",
    "datos_orig = datos.copy()\n",
    "datos_orig['ds'] = datos_orig.index\n",
    "datos_orig = pd.DataFrame(datos_orig[['ds', 'TOTALES']])\n",
    "datos_orig.columns = ['ds','y']\n",
    "\n",
    "data = datos.copy()\n",
    "data['ds'] = data.index\n",
    "data = pd.DataFrame(data[['ds', 'TOTALES']])\n",
    "data.columns = ['ds','y']\n",
    "\n",
    "comparison = []\n",
    "comparison = pd.DataFrame(comparison, columns = ['ds' , 'real', 'base', 'prophet'])\n",
    "\n",
    "for i in range(2010,2020):\n",
    "    for j in range(1,13):\n",
    "        for k in range(1,calendar.monthrange(i, j)[1]+1):\n",
    "            fecha_estudio = pd.Timestamp(i, j, k)\n",
    "            total_real = datos_orig[datos_orig['ds'].dt.year==i]['y'].sum()\n",
    "            total_base = modelo_inicial(data,fecha_estudio)\n",
    "            m, forecast, total_ph = modelo_TFM(data,fecha_estudio)\n",
    "            print(fecha_estudio)\n",
    "            comparison=comparison.append({'ds':fecha_estudio , \n",
    "                                          'real':total_real, \n",
    "                                          'base':total_base, \n",
    "                                          'prophet':total_ph},\n",
    "                                         ignore_index=True)\n",
    "            comparison.to_csv(r'D:\\COSAS\\Máster en Inteligencia Artificial\\09. TFM\\comparison_2.csv', \n",
    "                              index = False, sep = ';', decimal=',')"
   ]
  },
  {
   "cell_type": "markdown",
   "metadata": {},
   "source": []
  },
  {
   "cell_type": "code",
   "execution_count": null,
   "metadata": {},
   "outputs": [],
   "source": [
    "comparison = pd.read_table('comparison.csv',sep=';',decimal = ',') #, index_col=0)\n",
    "comparison['ds'] = pd.to_datetime(comparison['ds'], format = '%Y-%m-%d')\n",
    "comparison=comparison[comparison['ds'].dt.year == 2019]\n",
    "fig_aux, ax_aux = plt.subplots(facecolor='w', figsize=(15, 5)) \n",
    "ax_aux.plot(comparison['ds'],comparison['real'],label='real')\n",
    "ax_aux.plot(comparison['ds'],comparison['base'],label='modelo inicial')\n",
    "ax_aux.plot(comparison['ds'],comparison['prophet'],label='modelo Prophet')\n",
    "ax_aux.legend(loc='best')\n",
    "plt.show()"
   ]
  },
  {
   "cell_type": "markdown",
   "metadata": {},
   "source": []
  },
  {
   "cell_type": "code",
   "execution_count": null,
   "metadata": {
    "scrolled": false
   },
   "outputs": [],
   "source": [
    "año_estudio=2016\n",
    "mes_estudio=1\n",
    "dia_estudio=1\n",
    "fecha_estudio=pd.Timestamp(año_estudio, mes_estudio, dia_estudio)\n",
    "\n",
    "datos = pd.read_table('Datos.csv',sep=';',decimal = ',', index_col = 0)\n",
    "datos.index = pd.to_datetime(datos.index, format = '%d/%m/%Y')\n",
    "\n",
    "datos_orig = datos.copy()\n",
    "datos_orig['ds'] = datos_orig.index\n",
    "datos_orig = pd.DataFrame(datos_orig[['ds', 'TOTALES']])\n",
    "datos_orig.columns = ['ds','y']\n",
    "\n",
    "data = datos.copy()\n",
    "data['ds'] = data.index\n",
    "data = pd.DataFrame(data[['ds', 'TOTALES']])\n",
    "data.columns = ['ds','y']\n",
    "\n",
    "m, forecast, total_ph = modelo_TFM(data,fecha_estudio,True,91,6)\n",
    "\n",
    "serie_calc = forecast  [forecast  ['ds'].dt.year == año_estudio].reset_index()[['ds', 'yhat']].copy()\n",
    "serie_calc.rename(columns = {'yhat':'y_calc'}, inplace = True)\n",
    "serie_real = datos_orig[datos_orig['ds'].dt.year == año_estudio].reset_index()[['ds', 'y']].copy()\n",
    "serie_real.rename(columns = {'y':'y_real'}, inplace = True)\n",
    "calculo = serie_calc.merge(serie_real)\n",
    "calculo['diferencia'] = calculo['y_calc']-calculo['y_real']\n",
    "calculo['acumulado'] = calculo['diferencia'].cumsum()\n",
    "calculo_A2 = calculo.copy\n",
    "fig_aux, ax_aux = plt.subplots(facecolor='w', figsize=(15, 5)) \n",
    "ax_aux.plot(calculo['ds'],calculo['acumulado'])"
   ]
  },
  {
   "cell_type": "markdown",
   "metadata": {},
   "source": []
  },
  {
   "cell_type": "code",
   "execution_count": null,
   "metadata": {},
   "outputs": [],
   "source": [
    "def modelo_optim(periodo, furier, modo):\n",
    "    m, forecast, total_ph = modelo_TFM(data,fecha_estudio,True,periodo,furier, modo)\n",
    "    display(total_ph)\n",
    "    serie_calc = forecast  [forecast  ['ds'].dt.year == año_estudio].reset_index()[['ds', 'yhat']].copy()\n",
    "    serie_calc.rename(columns = {'yhat':'y_calc'}, inplace = True)\n",
    "    serie_real = datos_orig[datos_orig['ds'].dt.year == año_estudio].reset_index()[['ds', 'y']].copy()\n",
    "    serie_real.rename(columns = {'y':'y_real'}, inplace = True)\n",
    "    calculo = serie_calc.merge(serie_real)\n",
    "    calculo['diferencia'] = calculo['y_calc']-calculo['y_real']\n",
    "    calculo['acumulado'] = calculo['diferencia'].cumsum()\n",
    "    return calculo"
   ]
  },
  {
   "cell_type": "markdown",
   "metadata": {},
   "source": []
  },
  {
   "cell_type": "code",
   "execution_count": null,
   "metadata": {},
   "outputs": [],
   "source": [
    "fecha_estudio = pd.Timestamp('2015-05-01')\n",
    "modelo_optim([91,182],[5,2],['additive','additive'])"
   ]
  },
  {
   "cell_type": "markdown",
   "metadata": {},
   "source": []
  },
  {
   "cell_type": "code",
   "execution_count": null,
   "metadata": {},
   "outputs": [],
   "source": [
    "# calculo_A1 = modelo_optim ([91],    [2]  ,['additive'])\n",
    "# calculo_A2 = modelo_optim ([182],   [2] ,['additive'] )\n",
    "# calculo_A3 = modelo_optim ([91],    [5] ,['multiplicative'] )\n",
    "# calculo_A4 = modelo_optim ([182],   [5] ,['multiplicative'] )\n",
    "# calculo_A5 = modelo_optim ([91,182],[5,2],['additive','additive'])\n",
    "# calculo_A6 = modelo_optim ([91,182],[5,2],['multiplicative','additive'])\n",
    "# calculo_A7 = modelo_optim ([91,182],[5,2],['additive','multiplicative'])\n",
    "# calculo_A8 = modelo_optim ([91,182],[5,2],['multiplicative','multiplicative'])\n",
    "# calculo_A9 = modelo_optim ([270],[2])\n",
    "# calculo_A10 = modelo_optim([300],[2])\n",
    "# calculo_A11 = modelo_optim([330],[2])\n",
    "# calculo_A12 = modelo_optim([360],[2])\n",
    "# calculo_A13 = modelo_optim([91,182],[5,2],['additive','additive'])\n",
    "# calculo_A14 = modelo_optim([91,182],[5,2],['additive','additive'])\n",
    "# calculo_A15 = modelo_optim([91,182],[5,2],['additive','additive'])\n",
    "# calculo_A16 = modelo_optim([91,182],[5,2],['additive','additive'])\n",
    "calculo_A17 = modelo_optim([91,182],[5,2],['additive','additive'])\n",
    "fig_aux, ax_aux = plt.subplots(facecolor='w', figsize=(15, 5)) \n",
    "# ax_aux.plot(calculo_A1['ds'],calculo_A1['acumulado'],label='A1')\n",
    "# ax_aux.plot(calculo_A2['ds'],calculo_A2['acumulado'],label='A2')\n",
    "# ax_aux.plot(calculo_A3['ds'],calculo_A3['acumulado'],label='A3')\n",
    "# ax_aux.plot(calculo_A4['ds'],calculo_A4['acumulado'],label='A4')\n",
    "ax_aux.plot(calculo_A5['ds'],calculo_A5['acumulado'],label='Con estacionalidad 3, 6 y 12 meses')\n",
    "# ax_aux.plot(calculo_A6['ds'],calculo_A6['acumulado'],label='A6')\n",
    "# ax_aux.plot(calculo_A7['ds'],calculo_A7['acumulado'],label='A7')\n",
    "# ax_aux.plot(calculo_A8['ds'],calculo_A8['acumulado'],label='A8')\n",
    "# ax_aux.plot(calculo_A9['ds'],calculo_A9['acumulado'],label='A9')\n",
    "# ax_aux.plot(calculo_A10['ds'],calculo_A10['acumulado'],label='A10')\n",
    "# ax_aux.plot(calculo_A11['ds'],calculo_A11['acumulado'],label='A11')\n",
    "# ax_aux.plot(calculo_A12['ds'],calculo_A12['acumulado'],label='A12')\n",
    "ax_aux.plot(calculo_A13['ds'],calculo_A13['acumulado'],label='precipitaciones \"additive\"')\n",
    "ax_aux.plot(calculo_A14['ds'],calculo_A14['acumulado'],label='todo clima \"additive\"')\n",
    "ax_aux.plot(calculo_A15['ds'],calculo_A15['acumulado'],label='estacionalidad \"multiplicativa\"')\n",
    "ax_aux.plot(calculo_A16['ds'],calculo_A16['acumulado'],label='muestreo bayesiano')\n",
    "ax_aux.plot(calculo_A17['ds'],calculo_A17['acumulado'],label='estacionalidad anual ampliada')\n",
    "ax_aux.legend(loc='best')\n",
    "# plt.legend(loc=\"upper left\")\n",
    "plt.show()\n",
    "# seasonality_mode = 'multiplicative', yearly_seasonality=20) #mcmc_samples=300"
   ]
  },
  {
   "cell_type": "markdown",
   "metadata": {},
   "source": []
  },
  {
   "cell_type": "code",
   "execution_count": null,
   "metadata": {},
   "outputs": [],
   "source": [
    "fig_aux, ax_aux = plt.subplots(facecolor='w', figsize=(15, 5)) \n",
    "ax_aux.plot(calculo_A1['ds'],calculo_A1['acumulado'])"
   ]
  },
  {
   "cell_type": "markdown",
   "metadata": {},
   "source": []
  },
  {
   "cell_type": "code",
   "execution_count": null,
   "metadata": {},
   "outputs": [],
   "source": [
    "# comparison=[]\n",
    "comparison_2 = pd.read_table('comparison_2.csv',sep=';',decimal = ',') #, index_col=0)\n",
    "comparison_2['ds'] = pd.to_datetime(comparison_2['ds'], format = '%d/%m/%Y')\n",
    "comparison_3=comparison_2[comparison_2['ds'].dt.year == 2015]\n",
    "# comparison_3=comparison_3[comparison_3['ds'].dt.month == 8]\n",
    "# comparison_3=comparison_2[comparison_2['ds'].str[:4]=='2016']\n",
    "fig_aux, ax_aux = plt.subplots(facecolor='w', figsize=(15, 5)) \n",
    "ax_aux.plot(comparison_3['ds'],comparison_3['real'],label='real')\n",
    "ax_aux.plot(comparison_3['ds'],comparison_3['base'],label='modelo inicial')\n",
    "ax_aux.plot(comparison_3['ds'],comparison_3['prophet'],label='modelo Prophet')\n",
    "ax_aux.legend(loc='best')\n",
    "plt.show()"
   ]
  },
  {
   "cell_type": "markdown",
   "metadata": {},
   "source": []
  },
  {
   "cell_type": "code",
   "execution_count": null,
   "metadata": {},
   "outputs": [],
   "source": [
    "fecha = pd.Timestamp('2018-2-15')\n",
    "datos = pd.read_table('Datos.csv',sep=';',decimal = ',', index_col = 0)\n",
    "datos.index = pd.to_datetime(datos.index, format = '%d/%m/%Y')\n",
    "data = datos[datos.index <= fecha].copy()\n",
    "data['ds'] = data.index\n",
    "data = pd.DataFrame(data[['ds', 'TOTALES']])\n",
    "data.columns = ['ds','y']\n",
    "\n",
    "m, forecast, total_ph = modelo_TFM(data,fecha)\n",
    "base = modelo_inicial(data,fecha)\n",
    "real = round(data[data['ds'].dt.year == fecha.year]['y'].sum(),2)\n",
    "\n",
    "print(\"{valor:.2f}\".format(valor = total_ph))\n",
    "print(\"{valor:.2f}\".format(valor = base))\n",
    "print(\"{valor:.2f}\".format(valor = real))\n"
   ]
  },
  {
   "cell_type": "markdown",
   "metadata": {},
   "source": []
  },
  {
   "cell_type": "code",
   "execution_count": null,
   "metadata": {
    "scrolled": false
   },
   "outputs": [],
   "source": [
    "año_estudio=2018\n",
    "mes_estudio=1\n",
    "dia_estudio=1\n",
    "fecha_estudio=pd.Timestamp(año_estudio, mes_estudio, dia_estudio)\n",
    "\n",
    "ingresos_pred=forecast[forecast['ds']>fecha_estudio][['ds', 'yhat']].copy()\n",
    "ingresos_pred.rename(columns = {'yhat':'y'}, inplace = True)\n",
    "ingresos_real=datos_orig[datos_orig['ds']<=fecha_estudio][['ds', 'y']]\n",
    "ingresos = pd.concat((ingresos_real, ingresos_pred))\n",
    "ingresos['FECHA'] = pd.to_datetime(ingresos['ds'], format='%d/%m/%Y')\n",
    "ingresos.index = ingresos['FECHA'] \n",
    "ingresos = pd.DataFrame(ingresos[['ds', 'y']])\n",
    "\n",
    "calculo=ingresos[ingresos['ds'].dt.year==año_estudio].copy()\n",
    "calculo['diferencia'] = ingresos[ingresos['ds'].dt.year==año_estudio]['y']-datos_orig[datos_orig['ds'].dt.year==año_estudio]['y']\n",
    "calculo['acumulado'] = calculo['diferencia'].cumsum()\n",
    "\n",
    "calculo_2 = ingresos[ingresos['ds'].dt.year==año_estudio].copy()\n",
    "calculo_2['acumulado'] = ingresos['y'].cumsum()\n",
    "\n",
    "calculo_3 = datos_orig[datos_orig['ds'].dt.year==año_estudio].copy()\n",
    "calculo_3['acumulado'] = datos_orig['y'].cumsum()\n",
    "\n",
    "\n",
    "fig_aux, ax_aux = plt.subplots(facecolor='w', figsize=(15, 5)) \n",
    "# ax_aux.plot(calculo['ds'],calculo['diferencia'])\n",
    "ax_aux.plot(calculo['ds'],calculo['acumulado'])\n",
    "# ax_aux.plot(calculo_2['ds'],calculo_2['acumulado'])\n",
    "# ax_aux.plot(calculo_3['ds'],calculo_3['acumulado'])\n",
    "# display(calculo_2)"
   ]
  },
  {
   "cell_type": "markdown",
   "metadata": {},
   "source": []
  },
  {
   "cell_type": "code",
   "execution_count": null,
   "metadata": {},
   "outputs": [],
   "source": [
    "fig_aux, ax_aux = plt.subplots(facecolor='w', figsize=(15, 5)) \n",
    "cv = df_cv[df_cv['cutoff'] == pd.Timestamp('2016-08-19')]\n",
    "# cv.loc[cv['yhat']<0, 'yhat'] = 0\n",
    "# cv.loc[cv['yhat_lower']<0, 'yhat_lower'] = 0\n",
    "# cv.loc[cv['yhat_upper']<0, 'yhat_upper'] = 0\n",
    "ax_aux.plot(cv['ds'],cv['yhat'])\n",
    "ax_aux.plot(cv['ds'],cv['y'])\n",
    "fig1 = m.plot(cv)"
   ]
  },
  {
   "cell_type": "markdown",
   "metadata": {},
   "source": []
  },
  {
   "cell_type": "code",
   "execution_count": null,
   "metadata": {},
   "outputs": [],
   "source": [
    "from fbprophet.plot import plot_cross_validation_metric\n",
    "fig = plot_cross_validation_metric(cv, metric='mse')"
   ]
  },
  {
   "cell_type": "markdown",
   "metadata": {},
   "source": []
  },
  {
   "cell_type": "code",
   "execution_count": null,
   "metadata": {},
   "outputs": [],
   "source": [
    "from fbprophet.diagnostics import performance_metrics\n",
    "# performance_metrics?\n",
    "df_p = performance_metrics(cv, rolling_window=0.9)\n",
    "df_p.head()"
   ]
  },
  {
   "cell_type": "markdown",
   "metadata": {},
   "source": []
  }
 ],
 "metadata": {
  "kernelspec": {
   "display_name": "Python 3",
   "language": "python",
   "name": "python3"
  },
  "language_info": {
   "codemirror_mode": {
    "name": "ipython",
    "version": 3
   },
   "file_extension": ".py",
   "mimetype": "text/x-python",
   "name": "python",
   "nbconvert_exporter": "python",
   "pygments_lexer": "ipython3",
   "version": "3.7.7"
  }
 },
 "nbformat": 4,
 "nbformat_minor": 4
}
